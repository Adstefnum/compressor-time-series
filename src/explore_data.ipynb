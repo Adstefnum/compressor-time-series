{
 "cells": [
  {
   "cell_type": "code",
   "execution_count": 6,
   "metadata": {},
   "outputs": [
    {
     "data": {
      "text/plain": [
       "<bound method NDFrame.head of         Timestamp(seconds)                Date   R1     R5  R1.1   R2     R4  \\\n",
       "0            1669852809000 2022-12-01 00:00:09  1.0  171.2   0.9 -1.2  433.2   \n",
       "1            1669852824000 2022-12-01 00:00:24  0.9  170.9   1.0 -0.6  427.2   \n",
       "2            1669852839000 2022-12-01 00:00:39  1.5  162.4   1.2 -0.7  423.2   \n",
       "3            1669852854000 2022-12-01 00:00:54  1.0  169.9   1.2 -1.2  414.6   \n",
       "4            1669852869000 2022-12-01 00:01:09  1.0  165.7   1.3 -0.7  412.6   \n",
       "...                    ...                 ...  ...    ...   ...  ...    ...   \n",
       "105215       1671629847000 2022-12-21 13:37:27  0.9  375.7   0.7 -0.7  495.9   \n",
       "105216       1671629862000 2022-12-21 13:37:42  1.3  378.8   0.7 -1.3  496.1   \n",
       "105217       1671629877000 2022-12-21 13:37:57  1.2  376.5   0.6 -0.9  495.6   \n",
       "105218       1671629892000 2022-12-21 13:38:12  1.3  375.8   0.7 -1.0  495.9   \n",
       "105219       1671629907000 2022-12-21 13:38:27  0.9  372.8   1.2 -0.7  495.9   \n",
       "\n",
       "        NV1  NV2  \n",
       "0       0.0  0.0  \n",
       "1       0.0  0.0  \n",
       "2       0.0  0.0  \n",
       "3       0.0  0.0  \n",
       "4       0.0  0.0  \n",
       "...     ...  ...  \n",
       "105215  0.0  0.0  \n",
       "105216  0.0  0.0  \n",
       "105217  0.0  0.0  \n",
       "105218  0.0  0.0  \n",
       "105219  0.0  0.0  \n",
       "\n",
       "[105220 rows x 9 columns]>"
      ]
     },
     "execution_count": 6,
     "metadata": {},
     "output_type": "execute_result"
    }
   ],
   "source": [
    "import pandas as pd\n",
    "\n",
    "data = pd.read_excel('./data/Excel_datset_export_2022-12-21.xlsx')\n",
    "\n",
    "data.head"
   ]
  }
 ],
 "metadata": {
  "kernelspec": {
   "display_name": "venv",
   "language": "python",
   "name": "python3"
  },
  "language_info": {
   "codemirror_mode": {
    "name": "ipython",
    "version": 3
   },
   "file_extension": ".py",
   "mimetype": "text/x-python",
   "name": "python",
   "nbconvert_exporter": "python",
   "pygments_lexer": "ipython3",
   "version": "3.10.7"
  },
  "orig_nbformat": 4,
  "vscode": {
   "interpreter": {
    "hash": "6cf6b91a56a32fcd3c19df13d51fce1d29fb5f6bef0d7579578c604241ac0cd7"
   }
  }
 },
 "nbformat": 4,
 "nbformat_minor": 2
}
